{
 "cells": [
  {
   "cell_type": "markdown",
   "metadata": {},
   "source": [
    "# Formule 1 Data Collection from ERGAST Web"
   ]
  },
  {
   "cell_type": "code",
   "execution_count": 1,
   "metadata": {},
   "outputs": [],
   "source": [
    "import warnings\n",
    "warnings.filterwarnings(\"ignore\")"
   ]
  },
  {
   "cell_type": "code",
   "execution_count": 2,
   "metadata": {},
   "outputs": [],
   "source": [
    "import time\n",
    "start = time.time()"
   ]
  },
  {
   "cell_type": "code",
   "execution_count": 3,
   "metadata": {
    "ExecuteTime": {
     "end_time": "2020-04-25T12:49:48.888320Z",
     "start_time": "2020-04-25T12:49:48.310499Z"
    }
   },
   "outputs": [],
   "source": [
    "import os\n",
    "import pandas as pd\n",
    "import numpy as np\n",
    "from pprint import pprint\n",
    "import requests"
   ]
  },
  {
   "cell_type": "code",
   "execution_count": 4,
   "metadata": {
    "ExecuteTime": {
     "end_time": "2020-04-25T13:27:54.994708Z",
     "start_time": "2020-04-25T13:27:54.978105Z"
    }
   },
   "outputs": [],
   "source": [
    "# I will use this function later to calculate points and wins prior to the race\n",
    "\n",
    "def lookup (df, team, points):\n",
    "    df['lookup1'] = df.season.astype(str) + df[team] + df['round'].astype(str)\n",
    "    df['lookup2'] = df.season.astype(str) + df[team] + (df['round']-1).astype(str)\n",
    "    new_df = df.merge(df[['lookup1', points]], how = 'left', left_on='lookup2',right_on='lookup1')\n",
    "    new_df.drop(['lookup1_x', 'lookup2', 'lookup1_y'], axis = 1, inplace = True)\n",
    "    new_df.rename(columns = {points+'_x': points+'_after_race', points+'_y': points}, inplace = True)\n",
    "    new_df[points].fillna(0, inplace = True)\n",
    "    return new_df\n",
    "   "
   ]
  },
  {
   "cell_type": "markdown",
   "metadata": {
    "heading_collapsed": true
   },
   "source": [
    "## Formula 1 Races until 2021"
   ]
  },
  {
   "cell_type": "code",
   "execution_count": 5,
   "metadata": {
    "ExecuteTime": {
     "end_time": "2020-04-25T12:50:17.193075Z",
     "start_time": "2020-04-25T12:50:03.155636Z"
    },
    "hidden": true
   },
   "outputs": [
    {
     "name": "stdout",
     "output_type": "stream",
     "text": [
      "(1035, 8)\n"
     ]
    }
   ],
   "source": [
    "races = {'season': [],\n",
    "        'round': [],\n",
    "        'circuit_id': [],\n",
    "        'lat': [],\n",
    "        'long': [],\n",
    "        'country': [],\n",
    "        'date': [],\n",
    "        'url': []}\n",
    "\n",
    "for year in list(range(1950,2021)):\n",
    "    \n",
    "    url = 'https://ergast.com/api/f1/{}.json'\n",
    "    r = requests.get(url.format(year))\n",
    "    json = r.json()\n",
    "\n",
    "    for item in json['MRData']['RaceTable']['Races']:\n",
    "        try:\n",
    "            races['season'].append(int(item['season']))\n",
    "        except:\n",
    "            races['season'].append(None)\n",
    "\n",
    "        try:\n",
    "            races['round'].append(int(item['round']))\n",
    "        except:\n",
    "            races['round'].append(None)\n",
    "\n",
    "        try:\n",
    "            races['circuit_id'].append(item['Circuit']['circuitId'])\n",
    "        except:\n",
    "            races['circuit_id'].append(None)\n",
    "\n",
    "        try:\n",
    "            races['lat'].append(float(item['Circuit']['Location']['lat']))\n",
    "        except:\n",
    "            races['lat'].append(None)\n",
    "\n",
    "        try:\n",
    "            races['long'].append(float(item['Circuit']['Location']['long']))\n",
    "        except:\n",
    "            races['long'].append(None)\n",
    "\n",
    "        try:\n",
    "            races['country'].append(item['Circuit']['Location']['country'])\n",
    "        except:\n",
    "            races['country'].append(None)\n",
    "\n",
    "        try:\n",
    "            races['date'].append(item['date'])\n",
    "        except:\n",
    "            races['date'].append(None)\n",
    "\n",
    "        try:\n",
    "            races['url'].append(item['url'])\n",
    "        except:\n",
    "            races['url'].append(None)\n",
    "        \n",
    "races = pd.DataFrame(races)\n",
    "print(races.shape)"
   ]
  },
  {
   "cell_type": "code",
   "execution_count": 6,
   "metadata": {
    "ExecuteTime": {
     "end_time": "2020-04-25T13:01:14.737380Z",
     "start_time": "2020-04-25T13:01:14.709906Z"
    },
    "hidden": true
   },
   "outputs": [
    {
     "data": {
      "text/html": [
       "<div>\n",
       "<style scoped>\n",
       "    .dataframe tbody tr th:only-of-type {\n",
       "        vertical-align: middle;\n",
       "    }\n",
       "\n",
       "    .dataframe tbody tr th {\n",
       "        vertical-align: top;\n",
       "    }\n",
       "\n",
       "    .dataframe thead th {\n",
       "        text-align: right;\n",
       "    }\n",
       "</style>\n",
       "<table border=\"1\" class=\"dataframe\">\n",
       "  <thead>\n",
       "    <tr style=\"text-align: right;\">\n",
       "      <th></th>\n",
       "      <th>season</th>\n",
       "      <th>round</th>\n",
       "      <th>circuit_id</th>\n",
       "      <th>lat</th>\n",
       "      <th>long</th>\n",
       "      <th>country</th>\n",
       "      <th>date</th>\n",
       "      <th>url</th>\n",
       "    </tr>\n",
       "  </thead>\n",
       "  <tbody>\n",
       "    <tr>\n",
       "      <th>0</th>\n",
       "      <td>1950</td>\n",
       "      <td>1</td>\n",
       "      <td>silverstone</td>\n",
       "      <td>52.0786</td>\n",
       "      <td>-1.01694</td>\n",
       "      <td>UK</td>\n",
       "      <td>1950-05-13</td>\n",
       "      <td>http://en.wikipedia.org/wiki/1950_British_Gran...</td>\n",
       "    </tr>\n",
       "    <tr>\n",
       "      <th>1</th>\n",
       "      <td>1950</td>\n",
       "      <td>2</td>\n",
       "      <td>monaco</td>\n",
       "      <td>43.7347</td>\n",
       "      <td>7.42056</td>\n",
       "      <td>Monaco</td>\n",
       "      <td>1950-05-21</td>\n",
       "      <td>http://en.wikipedia.org/wiki/1950_Monaco_Grand...</td>\n",
       "    </tr>\n",
       "    <tr>\n",
       "      <th>2</th>\n",
       "      <td>1950</td>\n",
       "      <td>3</td>\n",
       "      <td>indianapolis</td>\n",
       "      <td>39.7950</td>\n",
       "      <td>-86.23470</td>\n",
       "      <td>USA</td>\n",
       "      <td>1950-05-30</td>\n",
       "      <td>http://en.wikipedia.org/wiki/1950_Indianapolis...</td>\n",
       "    </tr>\n",
       "    <tr>\n",
       "      <th>3</th>\n",
       "      <td>1950</td>\n",
       "      <td>4</td>\n",
       "      <td>bremgarten</td>\n",
       "      <td>46.9589</td>\n",
       "      <td>7.40194</td>\n",
       "      <td>Switzerland</td>\n",
       "      <td>1950-06-04</td>\n",
       "      <td>http://en.wikipedia.org/wiki/1950_Swiss_Grand_...</td>\n",
       "    </tr>\n",
       "    <tr>\n",
       "      <th>4</th>\n",
       "      <td>1950</td>\n",
       "      <td>5</td>\n",
       "      <td>spa</td>\n",
       "      <td>50.4372</td>\n",
       "      <td>5.97139</td>\n",
       "      <td>Belgium</td>\n",
       "      <td>1950-06-18</td>\n",
       "      <td>http://en.wikipedia.org/wiki/1950_Belgian_Gran...</td>\n",
       "    </tr>\n",
       "  </tbody>\n",
       "</table>\n",
       "</div>"
      ],
      "text/plain": [
       "   season  round    circuit_id      lat      long      country        date  \\\n",
       "0    1950      1   silverstone  52.0786  -1.01694           UK  1950-05-13   \n",
       "1    1950      2        monaco  43.7347   7.42056       Monaco  1950-05-21   \n",
       "2    1950      3  indianapolis  39.7950 -86.23470          USA  1950-05-30   \n",
       "3    1950      4    bremgarten  46.9589   7.40194  Switzerland  1950-06-04   \n",
       "4    1950      5           spa  50.4372   5.97139      Belgium  1950-06-18   \n",
       "\n",
       "                                                 url  \n",
       "0  http://en.wikipedia.org/wiki/1950_British_Gran...  \n",
       "1  http://en.wikipedia.org/wiki/1950_Monaco_Grand...  \n",
       "2  http://en.wikipedia.org/wiki/1950_Indianapolis...  \n",
       "3  http://en.wikipedia.org/wiki/1950_Swiss_Grand_...  \n",
       "4  http://en.wikipedia.org/wiki/1950_Belgian_Gran...  "
      ]
     },
     "execution_count": 6,
     "metadata": {},
     "output_type": "execute_result"
    }
   ],
   "source": [
    "races.head()"
   ]
  },
  {
   "cell_type": "code",
   "execution_count": 7,
   "metadata": {
    "ExecuteTime": {
     "end_time": "2020-04-25T13:01:36.003880Z",
     "start_time": "2020-04-25T13:01:35.985653Z"
    },
    "hidden": true
   },
   "outputs": [
    {
     "data": {
      "text/html": [
       "<div>\n",
       "<style scoped>\n",
       "    .dataframe tbody tr th:only-of-type {\n",
       "        vertical-align: middle;\n",
       "    }\n",
       "\n",
       "    .dataframe tbody tr th {\n",
       "        vertical-align: top;\n",
       "    }\n",
       "\n",
       "    .dataframe thead th {\n",
       "        text-align: right;\n",
       "    }\n",
       "</style>\n",
       "<table border=\"1\" class=\"dataframe\">\n",
       "  <thead>\n",
       "    <tr style=\"text-align: right;\">\n",
       "      <th></th>\n",
       "      <th>season</th>\n",
       "      <th>round</th>\n",
       "      <th>circuit_id</th>\n",
       "      <th>lat</th>\n",
       "      <th>long</th>\n",
       "      <th>country</th>\n",
       "      <th>date</th>\n",
       "      <th>url</th>\n",
       "    </tr>\n",
       "  </thead>\n",
       "  <tbody>\n",
       "    <tr>\n",
       "      <th>1030</th>\n",
       "      <td>2020</td>\n",
       "      <td>13</td>\n",
       "      <td>imola</td>\n",
       "      <td>44.3439</td>\n",
       "      <td>11.7167</td>\n",
       "      <td>Italy</td>\n",
       "      <td>2020-11-01</td>\n",
       "      <td>http://en.wikipedia.org/wiki/2020_Emilia_Romag...</td>\n",
       "    </tr>\n",
       "    <tr>\n",
       "      <th>1031</th>\n",
       "      <td>2020</td>\n",
       "      <td>14</td>\n",
       "      <td>istanbul</td>\n",
       "      <td>40.9517</td>\n",
       "      <td>29.4050</td>\n",
       "      <td>Turkey</td>\n",
       "      <td>2020-11-15</td>\n",
       "      <td>http://en.wikipedia.org/wiki/2020_Turkish_Gran...</td>\n",
       "    </tr>\n",
       "    <tr>\n",
       "      <th>1032</th>\n",
       "      <td>2020</td>\n",
       "      <td>15</td>\n",
       "      <td>bahrain</td>\n",
       "      <td>26.0325</td>\n",
       "      <td>50.5106</td>\n",
       "      <td>Bahrain</td>\n",
       "      <td>2020-11-29</td>\n",
       "      <td>http://en.wikipedia.org/wiki/2020_Bahrain_Gran...</td>\n",
       "    </tr>\n",
       "    <tr>\n",
       "      <th>1033</th>\n",
       "      <td>2020</td>\n",
       "      <td>16</td>\n",
       "      <td>bahrain</td>\n",
       "      <td>26.0325</td>\n",
       "      <td>50.5106</td>\n",
       "      <td>Bahrain</td>\n",
       "      <td>2020-12-06</td>\n",
       "      <td>http://en.wikipedia.org/wiki/2020_Sakhir_Grand...</td>\n",
       "    </tr>\n",
       "    <tr>\n",
       "      <th>1034</th>\n",
       "      <td>2020</td>\n",
       "      <td>17</td>\n",
       "      <td>yas_marina</td>\n",
       "      <td>24.4672</td>\n",
       "      <td>54.6031</td>\n",
       "      <td>UAE</td>\n",
       "      <td>2020-12-13</td>\n",
       "      <td>http://en.wikipedia.org/wiki/2020_Abu_Dhabi_Gr...</td>\n",
       "    </tr>\n",
       "  </tbody>\n",
       "</table>\n",
       "</div>"
      ],
      "text/plain": [
       "      season  round  circuit_id      lat     long  country        date  \\\n",
       "1030    2020     13       imola  44.3439  11.7167    Italy  2020-11-01   \n",
       "1031    2020     14    istanbul  40.9517  29.4050   Turkey  2020-11-15   \n",
       "1032    2020     15     bahrain  26.0325  50.5106  Bahrain  2020-11-29   \n",
       "1033    2020     16     bahrain  26.0325  50.5106  Bahrain  2020-12-06   \n",
       "1034    2020     17  yas_marina  24.4672  54.6031      UAE  2020-12-13   \n",
       "\n",
       "                                                    url  \n",
       "1030  http://en.wikipedia.org/wiki/2020_Emilia_Romag...  \n",
       "1031  http://en.wikipedia.org/wiki/2020_Turkish_Gran...  \n",
       "1032  http://en.wikipedia.org/wiki/2020_Bahrain_Gran...  \n",
       "1033  http://en.wikipedia.org/wiki/2020_Sakhir_Grand...  \n",
       "1034  http://en.wikipedia.org/wiki/2020_Abu_Dhabi_Gr...  "
      ]
     },
     "execution_count": 7,
     "metadata": {},
     "output_type": "execute_result"
    }
   ],
   "source": [
    "races.tail()"
   ]
  },
  {
   "cell_type": "code",
   "execution_count": 8,
   "metadata": {},
   "outputs": [],
   "source": [
    "if not os.path.exists('./data'):\n",
    "    os.mkdir('./data')"
   ]
  },
  {
   "cell_type": "code",
   "execution_count": 9,
   "metadata": {
    "ExecuteTime": {
     "end_time": "2020-04-25T13:01:53.430287Z",
     "start_time": "2020-04-25T13:01:53.411759Z"
    },
    "hidden": true
   },
   "outputs": [],
   "source": [
    "races.to_csv('./data/races.csv', index = False)"
   ]
  },
  {
   "cell_type": "markdown",
   "metadata": {
    "heading_collapsed": true
   },
   "source": [
    "## Formula 1 Rounds"
   ]
  },
  {
   "cell_type": "code",
   "execution_count": 10,
   "metadata": {
    "ExecuteTime": {
     "end_time": "2020-04-25T13:02:15.368846Z",
     "start_time": "2020-04-25T13:02:15.355941Z"
    },
    "hidden": true
   },
   "outputs": [],
   "source": [
    "race = pd.read_csv('./data/races.csv')"
   ]
  },
  {
   "cell_type": "code",
   "execution_count": 11,
   "metadata": {
    "ExecuteTime": {
     "end_time": "2020-04-25T13:02:58.902514Z",
     "start_time": "2020-04-25T13:02:58.829981Z"
    },
    "hidden": true
   },
   "outputs": [],
   "source": [
    "rounds = []\n",
    "for year in np.array(race.season.unique()):\n",
    "    rounds.append([year, list(race[race.season == year]['round'])])"
   ]
  },
  {
   "cell_type": "code",
   "execution_count": 12,
   "metadata": {
    "ExecuteTime": {
     "end_time": "2020-04-25T13:03:41.361231Z",
     "start_time": "2020-04-25T13:03:41.353880Z"
    },
    "hidden": true
   },
   "outputs": [
    {
     "data": {
      "text/plain": [
       "[[1950, [1, 2, 3, 4, 5, 6, 7]],\n",
       " [1951, [1, 2, 3, 4, 5, 6, 7, 8]],\n",
       " [1952, [1, 2, 3, 4, 5, 6, 7, 8]],\n",
       " [1953, [1, 2, 3, 4, 5, 6, 7, 8, 9]],\n",
       " [1954, [1, 2, 3, 4, 5, 6, 7, 8, 9]]]"
      ]
     },
     "execution_count": 12,
     "metadata": {},
     "output_type": "execute_result"
    }
   ],
   "source": [
    "rounds[:5]"
   ]
  },
  {
   "cell_type": "markdown",
   "metadata": {
    "heading_collapsed": true
   },
   "source": [
    "## Formula 1 Results"
   ]
  },
  {
   "cell_type": "code",
   "execution_count": 13,
   "metadata": {
    "ExecuteTime": {
     "end_time": "2020-04-25T13:11:14.823092Z",
     "start_time": "2020-04-25T13:04:22.678839Z"
    },
    "hidden": true
   },
   "outputs": [
    {
     "name": "stdout",
     "output_type": "stream",
     "text": [
      "(24507, 13)\n"
     ]
    }
   ],
   "source": [
    "results = {'season': [],\n",
    "          'round':[],\n",
    "           'circuit_id':[],\n",
    "          'driver': [],\n",
    "           'date_of_birth': [],\n",
    "           'nationality': [],\n",
    "          'constructor': [],\n",
    "          'grid': [],\n",
    "          'time': [],\n",
    "          'status': [],\n",
    "          'points': [],\n",
    "          'podium': [],\n",
    "          'url': []}\n",
    "\n",
    "for n in list(range(len(rounds))):\n",
    "    for i in rounds[n][1]:\n",
    "    \n",
    "        url = 'http://ergast.com/api/f1/{}/{}/results.json'\n",
    "        r = requests.get(url.format(rounds[n][0], i))\n",
    "        json = r.json()\n",
    "\n",
    "        try:\n",
    "\n",
    "            for item in json['MRData']['RaceTable']['Races'][0]['Results']:\n",
    "                try:\n",
    "                    results['season'].append(int(json['MRData']['RaceTable']['Races'][0]['season']))\n",
    "                except:\n",
    "                    results['season'].append(None)\n",
    "\n",
    "                try:\n",
    "                    results['round'].append(int(json['MRData']['RaceTable']['Races'][0]['round']))\n",
    "                except:\n",
    "                    results['round'].append(None)\n",
    "\n",
    "                try:\n",
    "                    results['circuit_id'].append(json['MRData']['RaceTable']['Races'][0]['Circuit']['circuitId'])\n",
    "                except:\n",
    "                    results['circuit_id'].append(None)\n",
    "\n",
    "                try:\n",
    "                    results['driver'].append(item['Driver']['driverId'])\n",
    "                except:\n",
    "                    results['driver'].append(None)\n",
    "\n",
    "                try:\n",
    "                    results['date_of_birth'].append(item['Driver']['dateOfBirth'])\n",
    "                except:\n",
    "                    results['date_of_birth'].append(None)\n",
    "\n",
    "                try:\n",
    "                    results['nationality'].append(item['Driver']['nationality'])\n",
    "                except:\n",
    "                    results['nationality'].append(None)\n",
    "\n",
    "                try:\n",
    "                    results['constructor'].append(item['Constructor']['constructorId'])\n",
    "                except:\n",
    "                    results['constructor'].append(None)\n",
    "\n",
    "                try:\n",
    "                    results['grid'].append(int(item['grid']))\n",
    "                except:\n",
    "                    results['grid'].append(None)\n",
    "\n",
    "                try:\n",
    "                    results['time'].append(int(item['Time']['millis']))\n",
    "                except:\n",
    "                    results['time'].append(None)\n",
    "\n",
    "                try:\n",
    "                    results['status'].append(item['status'])\n",
    "                except:\n",
    "                    results['status'].append(None)\n",
    "\n",
    "                try:\n",
    "                    results['points'].append(int(item['points']))\n",
    "                except:\n",
    "                    results['points'].append(None)\n",
    "\n",
    "                try:\n",
    "                    results['podium'].append(int(item['position']))\n",
    "                except:\n",
    "                    results['podium'].append(None)\n",
    "\n",
    "                try:\n",
    "                    results['url'].append(json['MRData']['RaceTable']['Races'][0]['url'])\n",
    "                except:\n",
    "                    results['url'].append(None)\n",
    "\n",
    "        except:\n",
    "            print(rounds[n][0], i)\n",
    "            print (\"Error : %s : %s \" % (rounds[n][0], i))\n",
    "\n",
    "results = pd.DataFrame(results)\n",
    "print(results.shape)"
   ]
  },
  {
   "cell_type": "code",
   "execution_count": 14,
   "metadata": {
    "ExecuteTime": {
     "end_time": "2020-04-25T13:12:16.232036Z",
     "start_time": "2020-04-25T13:12:16.211050Z"
    },
    "hidden": true
   },
   "outputs": [
    {
     "data": {
      "text/html": [
       "<div>\n",
       "<style scoped>\n",
       "    .dataframe tbody tr th:only-of-type {\n",
       "        vertical-align: middle;\n",
       "    }\n",
       "\n",
       "    .dataframe tbody tr th {\n",
       "        vertical-align: top;\n",
       "    }\n",
       "\n",
       "    .dataframe thead th {\n",
       "        text-align: right;\n",
       "    }\n",
       "</style>\n",
       "<table border=\"1\" class=\"dataframe\">\n",
       "  <thead>\n",
       "    <tr style=\"text-align: right;\">\n",
       "      <th></th>\n",
       "      <th>season</th>\n",
       "      <th>round</th>\n",
       "      <th>circuit_id</th>\n",
       "      <th>driver</th>\n",
       "      <th>date_of_birth</th>\n",
       "      <th>nationality</th>\n",
       "      <th>constructor</th>\n",
       "      <th>grid</th>\n",
       "      <th>time</th>\n",
       "      <th>status</th>\n",
       "      <th>points</th>\n",
       "      <th>podium</th>\n",
       "      <th>url</th>\n",
       "    </tr>\n",
       "  </thead>\n",
       "  <tbody>\n",
       "    <tr>\n",
       "      <th>0</th>\n",
       "      <td>1950</td>\n",
       "      <td>1</td>\n",
       "      <td>silverstone</td>\n",
       "      <td>farina</td>\n",
       "      <td>1906-10-30</td>\n",
       "      <td>Italian</td>\n",
       "      <td>alfa</td>\n",
       "      <td>1</td>\n",
       "      <td>8003600.0</td>\n",
       "      <td>Finished</td>\n",
       "      <td>9.0</td>\n",
       "      <td>1</td>\n",
       "      <td>http://en.wikipedia.org/wiki/1950_British_Gran...</td>\n",
       "    </tr>\n",
       "    <tr>\n",
       "      <th>1</th>\n",
       "      <td>1950</td>\n",
       "      <td>1</td>\n",
       "      <td>silverstone</td>\n",
       "      <td>fagioli</td>\n",
       "      <td>1898-06-09</td>\n",
       "      <td>Italian</td>\n",
       "      <td>alfa</td>\n",
       "      <td>2</td>\n",
       "      <td>8006200.0</td>\n",
       "      <td>Finished</td>\n",
       "      <td>6.0</td>\n",
       "      <td>2</td>\n",
       "      <td>http://en.wikipedia.org/wiki/1950_British_Gran...</td>\n",
       "    </tr>\n",
       "    <tr>\n",
       "      <th>2</th>\n",
       "      <td>1950</td>\n",
       "      <td>1</td>\n",
       "      <td>silverstone</td>\n",
       "      <td>reg_parnell</td>\n",
       "      <td>1911-07-02</td>\n",
       "      <td>British</td>\n",
       "      <td>alfa</td>\n",
       "      <td>4</td>\n",
       "      <td>8055600.0</td>\n",
       "      <td>Finished</td>\n",
       "      <td>4.0</td>\n",
       "      <td>3</td>\n",
       "      <td>http://en.wikipedia.org/wiki/1950_British_Gran...</td>\n",
       "    </tr>\n",
       "    <tr>\n",
       "      <th>3</th>\n",
       "      <td>1950</td>\n",
       "      <td>1</td>\n",
       "      <td>silverstone</td>\n",
       "      <td>cabantous</td>\n",
       "      <td>1904-10-08</td>\n",
       "      <td>French</td>\n",
       "      <td>lago</td>\n",
       "      <td>6</td>\n",
       "      <td>NaN</td>\n",
       "      <td>+2 Laps</td>\n",
       "      <td>3.0</td>\n",
       "      <td>4</td>\n",
       "      <td>http://en.wikipedia.org/wiki/1950_British_Gran...</td>\n",
       "    </tr>\n",
       "    <tr>\n",
       "      <th>4</th>\n",
       "      <td>1950</td>\n",
       "      <td>1</td>\n",
       "      <td>silverstone</td>\n",
       "      <td>rosier</td>\n",
       "      <td>1905-11-05</td>\n",
       "      <td>French</td>\n",
       "      <td>lago</td>\n",
       "      <td>9</td>\n",
       "      <td>NaN</td>\n",
       "      <td>+2 Laps</td>\n",
       "      <td>2.0</td>\n",
       "      <td>5</td>\n",
       "      <td>http://en.wikipedia.org/wiki/1950_British_Gran...</td>\n",
       "    </tr>\n",
       "  </tbody>\n",
       "</table>\n",
       "</div>"
      ],
      "text/plain": [
       "   season  round   circuit_id       driver date_of_birth nationality  \\\n",
       "0    1950      1  silverstone       farina    1906-10-30     Italian   \n",
       "1    1950      1  silverstone      fagioli    1898-06-09     Italian   \n",
       "2    1950      1  silverstone  reg_parnell    1911-07-02     British   \n",
       "3    1950      1  silverstone    cabantous    1904-10-08      French   \n",
       "4    1950      1  silverstone       rosier    1905-11-05      French   \n",
       "\n",
       "  constructor  grid       time    status  points  podium  \\\n",
       "0        alfa     1  8003600.0  Finished     9.0       1   \n",
       "1        alfa     2  8006200.0  Finished     6.0       2   \n",
       "2        alfa     4  8055600.0  Finished     4.0       3   \n",
       "3        lago     6        NaN   +2 Laps     3.0       4   \n",
       "4        lago     9        NaN   +2 Laps     2.0       5   \n",
       "\n",
       "                                                 url  \n",
       "0  http://en.wikipedia.org/wiki/1950_British_Gran...  \n",
       "1  http://en.wikipedia.org/wiki/1950_British_Gran...  \n",
       "2  http://en.wikipedia.org/wiki/1950_British_Gran...  \n",
       "3  http://en.wikipedia.org/wiki/1950_British_Gran...  \n",
       "4  http://en.wikipedia.org/wiki/1950_British_Gran...  "
      ]
     },
     "execution_count": 14,
     "metadata": {},
     "output_type": "execute_result"
    }
   ],
   "source": [
    "results.head()"
   ]
  },
  {
   "cell_type": "code",
   "execution_count": 15,
   "metadata": {
    "ExecuteTime": {
     "end_time": "2020-04-25T13:12:20.950021Z",
     "start_time": "2020-04-25T13:12:20.922617Z"
    },
    "hidden": true
   },
   "outputs": [
    {
     "data": {
      "text/html": [
       "<div>\n",
       "<style scoped>\n",
       "    .dataframe tbody tr th:only-of-type {\n",
       "        vertical-align: middle;\n",
       "    }\n",
       "\n",
       "    .dataframe tbody tr th {\n",
       "        vertical-align: top;\n",
       "    }\n",
       "\n",
       "    .dataframe thead th {\n",
       "        text-align: right;\n",
       "    }\n",
       "</style>\n",
       "<table border=\"1\" class=\"dataframe\">\n",
       "  <thead>\n",
       "    <tr style=\"text-align: right;\">\n",
       "      <th></th>\n",
       "      <th>season</th>\n",
       "      <th>round</th>\n",
       "      <th>circuit_id</th>\n",
       "      <th>driver</th>\n",
       "      <th>date_of_birth</th>\n",
       "      <th>nationality</th>\n",
       "      <th>constructor</th>\n",
       "      <th>grid</th>\n",
       "      <th>time</th>\n",
       "      <th>status</th>\n",
       "      <th>points</th>\n",
       "      <th>podium</th>\n",
       "      <th>url</th>\n",
       "    </tr>\n",
       "  </thead>\n",
       "  <tbody>\n",
       "    <tr>\n",
       "      <th>24502</th>\n",
       "      <td>2020</td>\n",
       "      <td>17</td>\n",
       "      <td>yas_marina</td>\n",
       "      <td>giovinazzi</td>\n",
       "      <td>1993-12-14</td>\n",
       "      <td>Italian</td>\n",
       "      <td>alfa</td>\n",
       "      <td>14</td>\n",
       "      <td>NaN</td>\n",
       "      <td>+1 Lap</td>\n",
       "      <td>0.0</td>\n",
       "      <td>16</td>\n",
       "      <td>http://en.wikipedia.org/wiki/2020_Abu_Dhabi_Gr...</td>\n",
       "    </tr>\n",
       "    <tr>\n",
       "      <th>24503</th>\n",
       "      <td>2020</td>\n",
       "      <td>17</td>\n",
       "      <td>yas_marina</td>\n",
       "      <td>latifi</td>\n",
       "      <td>1995-06-29</td>\n",
       "      <td>Canadian</td>\n",
       "      <td>williams</td>\n",
       "      <td>18</td>\n",
       "      <td>NaN</td>\n",
       "      <td>+1 Lap</td>\n",
       "      <td>0.0</td>\n",
       "      <td>17</td>\n",
       "      <td>http://en.wikipedia.org/wiki/2020_Abu_Dhabi_Gr...</td>\n",
       "    </tr>\n",
       "    <tr>\n",
       "      <th>24504</th>\n",
       "      <td>2020</td>\n",
       "      <td>17</td>\n",
       "      <td>yas_marina</td>\n",
       "      <td>kevin_magnussen</td>\n",
       "      <td>1992-10-05</td>\n",
       "      <td>Danish</td>\n",
       "      <td>haas</td>\n",
       "      <td>20</td>\n",
       "      <td>NaN</td>\n",
       "      <td>+1 Lap</td>\n",
       "      <td>0.0</td>\n",
       "      <td>18</td>\n",
       "      <td>http://en.wikipedia.org/wiki/2020_Abu_Dhabi_Gr...</td>\n",
       "    </tr>\n",
       "    <tr>\n",
       "      <th>24505</th>\n",
       "      <td>2020</td>\n",
       "      <td>17</td>\n",
       "      <td>yas_marina</td>\n",
       "      <td>pietro_fittipaldi</td>\n",
       "      <td>1996-06-25</td>\n",
       "      <td>Brazilian</td>\n",
       "      <td>haas</td>\n",
       "      <td>17</td>\n",
       "      <td>NaN</td>\n",
       "      <td>+2 Laps</td>\n",
       "      <td>0.0</td>\n",
       "      <td>19</td>\n",
       "      <td>http://en.wikipedia.org/wiki/2020_Abu_Dhabi_Gr...</td>\n",
       "    </tr>\n",
       "    <tr>\n",
       "      <th>24506</th>\n",
       "      <td>2020</td>\n",
       "      <td>17</td>\n",
       "      <td>yas_marina</td>\n",
       "      <td>perez</td>\n",
       "      <td>1990-01-26</td>\n",
       "      <td>Mexican</td>\n",
       "      <td>racing_point</td>\n",
       "      <td>19</td>\n",
       "      <td>NaN</td>\n",
       "      <td>Transmission</td>\n",
       "      <td>0.0</td>\n",
       "      <td>20</td>\n",
       "      <td>http://en.wikipedia.org/wiki/2020_Abu_Dhabi_Gr...</td>\n",
       "    </tr>\n",
       "  </tbody>\n",
       "</table>\n",
       "</div>"
      ],
      "text/plain": [
       "       season  round  circuit_id             driver date_of_birth nationality  \\\n",
       "24502    2020     17  yas_marina         giovinazzi    1993-12-14     Italian   \n",
       "24503    2020     17  yas_marina             latifi    1995-06-29    Canadian   \n",
       "24504    2020     17  yas_marina    kevin_magnussen    1992-10-05      Danish   \n",
       "24505    2020     17  yas_marina  pietro_fittipaldi    1996-06-25   Brazilian   \n",
       "24506    2020     17  yas_marina              perez    1990-01-26     Mexican   \n",
       "\n",
       "        constructor  grid  time        status  points  podium  \\\n",
       "24502          alfa    14   NaN        +1 Lap     0.0      16   \n",
       "24503      williams    18   NaN        +1 Lap     0.0      17   \n",
       "24504          haas    20   NaN        +1 Lap     0.0      18   \n",
       "24505          haas    17   NaN       +2 Laps     0.0      19   \n",
       "24506  racing_point    19   NaN  Transmission     0.0      20   \n",
       "\n",
       "                                                     url  \n",
       "24502  http://en.wikipedia.org/wiki/2020_Abu_Dhabi_Gr...  \n",
       "24503  http://en.wikipedia.org/wiki/2020_Abu_Dhabi_Gr...  \n",
       "24504  http://en.wikipedia.org/wiki/2020_Abu_Dhabi_Gr...  \n",
       "24505  http://en.wikipedia.org/wiki/2020_Abu_Dhabi_Gr...  \n",
       "24506  http://en.wikipedia.org/wiki/2020_Abu_Dhabi_Gr...  "
      ]
     },
     "execution_count": 15,
     "metadata": {},
     "output_type": "execute_result"
    }
   ],
   "source": [
    "results.tail()"
   ]
  },
  {
   "cell_type": "code",
   "execution_count": 16,
   "metadata": {
    "ExecuteTime": {
     "end_time": "2020-04-25T13:12:25.269394Z",
     "start_time": "2020-04-25T13:12:25.097317Z"
    },
    "hidden": true
   },
   "outputs": [],
   "source": [
    "results.to_csv('./data/results.csv', index = False)"
   ]
  },
  {
   "cell_type": "markdown",
   "metadata": {
    "ExecuteTime": {
     "end_time": "2020-04-24T14:50:58.332851Z",
     "start_time": "2020-04-24T14:50:58.329415Z"
    },
    "heading_collapsed": true
   },
   "source": [
    "## Formula 1 Drivers Standings"
   ]
  },
  {
   "cell_type": "code",
   "execution_count": 18,
   "metadata": {
    "ExecuteTime": {
     "end_time": "2020-04-25T13:23:54.573020Z",
     "start_time": "2020-04-25T13:12:52.400005Z"
    },
    "hidden": true
   },
   "outputs": [],
   "source": [
    "driver_standings = {'season': [],\n",
    "                    'round':[],\n",
    "                    'driver': [],\n",
    "                    'driver_points': [],\n",
    "                    'driver_wins': [],\n",
    "                   'driver_standings_pos': []}\n",
    "\n",
    "for n in list(range(len(rounds))):\n",
    "    for i in rounds[n][1]:\n",
    "    \n",
    "        url = 'https://ergast.com/api/f1/{}/{}/driverStandings.json'\n",
    "        r = requests.get(url.format(rounds[n][0], i))\n",
    "        json = r.json()\n",
    "\n",
    "        for item in json['MRData']['StandingsTable']['StandingsLists'][0]['DriverStandings']:\n",
    "            try:\n",
    "                driver_standings['season'].append(int(json['MRData']['StandingsTable']['StandingsLists'][0]['season']))\n",
    "            except:\n",
    "                driver_standings['season'].append(None)\n",
    "\n",
    "            try:\n",
    "                driver_standings['round'].append(int(json['MRData']['StandingsTable']['StandingsLists'][0]['round']))\n",
    "            except:\n",
    "                driver_standings['round'].append(None)\n",
    "                                         \n",
    "            try:\n",
    "                driver_standings['driver'].append(item['Driver']['driverId'])\n",
    "            except:\n",
    "                driver_standings['driver'].append(None)\n",
    "            \n",
    "            try:\n",
    "                driver_standings['driver_points'].append(int(item['points']))\n",
    "            except:\n",
    "                driver_standings['driver_points'].append(None)\n",
    "            \n",
    "            try:\n",
    "                driver_standings['driver_wins'].append(int(item['wins']))\n",
    "            except:\n",
    "                driver_standings['driver_wins'].append(None)\n",
    "                \n",
    "            try:\n",
    "                driver_standings['driver_standings_pos'].append(int(item['position']))\n",
    "            except:\n",
    "                driver_standings['driver_standings_pos'].append(None)\n",
    "            \n",
    "driver_standings = pd.DataFrame(driver_standings)\n",
    "print(driver_standings.shape)\n"
   ]
  },
  {
   "cell_type": "code",
   "execution_count": null,
   "metadata": {
    "ExecuteTime": {
     "end_time": "2020-04-25T13:28:00.343265Z",
     "start_time": "2020-04-25T13:28:00.187104Z"
    },
    "hidden": true
   },
   "outputs": [],
   "source": [
    "driver_standings = lookup(driver_standings, 'driver', 'driver_points')"
   ]
  },
  {
   "cell_type": "code",
   "execution_count": null,
   "metadata": {
    "ExecuteTime": {
     "end_time": "2020-04-25T13:28:03.167215Z",
     "start_time": "2020-04-25T13:28:03.007873Z"
    },
    "hidden": true
   },
   "outputs": [],
   "source": [
    "driver_standings = lookup(driver_standings, 'driver', 'driver_wins')"
   ]
  },
  {
   "cell_type": "code",
   "execution_count": null,
   "metadata": {
    "ExecuteTime": {
     "end_time": "2020-04-25T13:28:04.322862Z",
     "start_time": "2020-04-25T13:28:04.174248Z"
    },
    "hidden": true
   },
   "outputs": [],
   "source": [
    "driver_standings = lookup(driver_standings, 'driver', 'driver_standings_pos')"
   ]
  },
  {
   "cell_type": "code",
   "execution_count": null,
   "metadata": {
    "ExecuteTime": {
     "end_time": "2020-04-25T13:28:05.342483Z",
     "start_time": "2020-04-25T13:28:05.325228Z"
    },
    "hidden": true
   },
   "outputs": [
    {
     "data": {
      "text/html": [
       "<div>\n",
       "<style scoped>\n",
       "    .dataframe tbody tr th:only-of-type {\n",
       "        vertical-align: middle;\n",
       "    }\n",
       "\n",
       "    .dataframe tbody tr th {\n",
       "        vertical-align: top;\n",
       "    }\n",
       "\n",
       "    .dataframe thead th {\n",
       "        text-align: right;\n",
       "    }\n",
       "</style>\n",
       "<table border=\"1\" class=\"dataframe\">\n",
       "  <thead>\n",
       "    <tr style=\"text-align: right;\">\n",
       "      <th></th>\n",
       "      <th>season</th>\n",
       "      <th>round</th>\n",
       "      <th>driver</th>\n",
       "      <th>driver_points_after_race</th>\n",
       "      <th>driver_wins_after_race</th>\n",
       "      <th>driver_standings_pos_after_race</th>\n",
       "      <th>driver_points</th>\n",
       "      <th>driver_wins</th>\n",
       "      <th>driver_standings_pos</th>\n",
       "    </tr>\n",
       "  </thead>\n",
       "  <tbody>\n",
       "    <tr>\n",
       "      <th>0</th>\n",
       "      <td>1950</td>\n",
       "      <td>1</td>\n",
       "      <td>farina</td>\n",
       "      <td>9.0</td>\n",
       "      <td>1</td>\n",
       "      <td>1</td>\n",
       "      <td>0.0</td>\n",
       "      <td>0.0</td>\n",
       "      <td>0.0</td>\n",
       "    </tr>\n",
       "    <tr>\n",
       "      <th>1</th>\n",
       "      <td>1950</td>\n",
       "      <td>1</td>\n",
       "      <td>fagioli</td>\n",
       "      <td>6.0</td>\n",
       "      <td>0</td>\n",
       "      <td>2</td>\n",
       "      <td>0.0</td>\n",
       "      <td>0.0</td>\n",
       "      <td>0.0</td>\n",
       "    </tr>\n",
       "    <tr>\n",
       "      <th>2</th>\n",
       "      <td>1950</td>\n",
       "      <td>1</td>\n",
       "      <td>reg_parnell</td>\n",
       "      <td>4.0</td>\n",
       "      <td>0</td>\n",
       "      <td>3</td>\n",
       "      <td>0.0</td>\n",
       "      <td>0.0</td>\n",
       "      <td>0.0</td>\n",
       "    </tr>\n",
       "    <tr>\n",
       "      <th>3</th>\n",
       "      <td>1950</td>\n",
       "      <td>1</td>\n",
       "      <td>cabantous</td>\n",
       "      <td>3.0</td>\n",
       "      <td>0</td>\n",
       "      <td>4</td>\n",
       "      <td>0.0</td>\n",
       "      <td>0.0</td>\n",
       "      <td>0.0</td>\n",
       "    </tr>\n",
       "    <tr>\n",
       "      <th>4</th>\n",
       "      <td>1950</td>\n",
       "      <td>1</td>\n",
       "      <td>rosier</td>\n",
       "      <td>2.0</td>\n",
       "      <td>0</td>\n",
       "      <td>5</td>\n",
       "      <td>0.0</td>\n",
       "      <td>0.0</td>\n",
       "      <td>0.0</td>\n",
       "    </tr>\n",
       "  </tbody>\n",
       "</table>\n",
       "</div>"
      ],
      "text/plain": [
       "   season  round       driver  driver_points_after_race  \\\n",
       "0    1950      1       farina                       9.0   \n",
       "1    1950      1      fagioli                       6.0   \n",
       "2    1950      1  reg_parnell                       4.0   \n",
       "3    1950      1    cabantous                       3.0   \n",
       "4    1950      1       rosier                       2.0   \n",
       "\n",
       "   driver_wins_after_race  driver_standings_pos_after_race  driver_points  \\\n",
       "0                       1                                1            0.0   \n",
       "1                       0                                2            0.0   \n",
       "2                       0                                3            0.0   \n",
       "3                       0                                4            0.0   \n",
       "4                       0                                5            0.0   \n",
       "\n",
       "   driver_wins  driver_standings_pos  \n",
       "0          0.0                   0.0  \n",
       "1          0.0                   0.0  \n",
       "2          0.0                   0.0  \n",
       "3          0.0                   0.0  \n",
       "4          0.0                   0.0  "
      ]
     },
     "execution_count": 55,
     "metadata": {},
     "output_type": "execute_result"
    }
   ],
   "source": [
    "driver_standings.head()"
   ]
  },
  {
   "cell_type": "code",
   "execution_count": null,
   "metadata": {
    "ExecuteTime": {
     "end_time": "2020-04-25T13:30:38.070770Z",
     "start_time": "2020-04-25T13:30:38.044672Z"
    },
    "hidden": true
   },
   "outputs": [
    {
     "data": {
      "text/html": [
       "<div>\n",
       "<style scoped>\n",
       "    .dataframe tbody tr th:only-of-type {\n",
       "        vertical-align: middle;\n",
       "    }\n",
       "\n",
       "    .dataframe tbody tr th {\n",
       "        vertical-align: top;\n",
       "    }\n",
       "\n",
       "    .dataframe thead th {\n",
       "        text-align: right;\n",
       "    }\n",
       "</style>\n",
       "<table border=\"1\" class=\"dataframe\">\n",
       "  <thead>\n",
       "    <tr style=\"text-align: right;\">\n",
       "      <th></th>\n",
       "      <th>season</th>\n",
       "      <th>round</th>\n",
       "      <th>driver</th>\n",
       "      <th>driver_points_after_race</th>\n",
       "      <th>driver_wins_after_race</th>\n",
       "      <th>driver_standings_pos_after_race</th>\n",
       "      <th>driver_points</th>\n",
       "      <th>driver_wins</th>\n",
       "      <th>driver_standings_pos</th>\n",
       "    </tr>\n",
       "  </thead>\n",
       "  <tbody>\n",
       "    <tr>\n",
       "      <th>26617</th>\n",
       "      <td>2020</td>\n",
       "      <td>17</td>\n",
       "      <td>grosjean</td>\n",
       "      <td>2.0</td>\n",
       "      <td>0</td>\n",
       "      <td>19</td>\n",
       "      <td>2.0</td>\n",
       "      <td>0.0</td>\n",
       "      <td>19.0</td>\n",
       "    </tr>\n",
       "    <tr>\n",
       "      <th>26618</th>\n",
       "      <td>2020</td>\n",
       "      <td>17</td>\n",
       "      <td>kevin_magnussen</td>\n",
       "      <td>1.0</td>\n",
       "      <td>0</td>\n",
       "      <td>20</td>\n",
       "      <td>1.0</td>\n",
       "      <td>0.0</td>\n",
       "      <td>20.0</td>\n",
       "    </tr>\n",
       "    <tr>\n",
       "      <th>26619</th>\n",
       "      <td>2020</td>\n",
       "      <td>17</td>\n",
       "      <td>latifi</td>\n",
       "      <td>0.0</td>\n",
       "      <td>0</td>\n",
       "      <td>21</td>\n",
       "      <td>0.0</td>\n",
       "      <td>0.0</td>\n",
       "      <td>21.0</td>\n",
       "    </tr>\n",
       "    <tr>\n",
       "      <th>26620</th>\n",
       "      <td>2020</td>\n",
       "      <td>17</td>\n",
       "      <td>aitken</td>\n",
       "      <td>0.0</td>\n",
       "      <td>0</td>\n",
       "      <td>22</td>\n",
       "      <td>0.0</td>\n",
       "      <td>0.0</td>\n",
       "      <td>22.0</td>\n",
       "    </tr>\n",
       "    <tr>\n",
       "      <th>26621</th>\n",
       "      <td>2020</td>\n",
       "      <td>17</td>\n",
       "      <td>pietro_fittipaldi</td>\n",
       "      <td>0.0</td>\n",
       "      <td>0</td>\n",
       "      <td>23</td>\n",
       "      <td>0.0</td>\n",
       "      <td>0.0</td>\n",
       "      <td>23.0</td>\n",
       "    </tr>\n",
       "  </tbody>\n",
       "</table>\n",
       "</div>"
      ],
      "text/plain": [
       "       season  round             driver  driver_points_after_race  \\\n",
       "26617    2020     17           grosjean                       2.0   \n",
       "26618    2020     17    kevin_magnussen                       1.0   \n",
       "26619    2020     17             latifi                       0.0   \n",
       "26620    2020     17             aitken                       0.0   \n",
       "26621    2020     17  pietro_fittipaldi                       0.0   \n",
       "\n",
       "       driver_wins_after_race  driver_standings_pos_after_race  driver_points  \\\n",
       "26617                       0                               19            2.0   \n",
       "26618                       0                               20            1.0   \n",
       "26619                       0                               21            0.0   \n",
       "26620                       0                               22            0.0   \n",
       "26621                       0                               23            0.0   \n",
       "\n",
       "       driver_wins  driver_standings_pos  \n",
       "26617          0.0                  19.0  \n",
       "26618          0.0                  20.0  \n",
       "26619          0.0                  21.0  \n",
       "26620          0.0                  22.0  \n",
       "26621          0.0                  23.0  "
      ]
     },
     "execution_count": 56,
     "metadata": {},
     "output_type": "execute_result"
    }
   ],
   "source": [
    "driver_standings.tail()"
   ]
  },
  {
   "cell_type": "code",
   "execution_count": null,
   "metadata": {
    "ExecuteTime": {
     "end_time": "2020-04-25T13:30:55.871283Z",
     "start_time": "2020-04-25T13:30:55.712834Z"
    },
    "hidden": true
   },
   "outputs": [],
   "source": [
    "driver_standings.to_csv('./data/driver_standings.csv', index = False)"
   ]
  },
  {
   "cell_type": "markdown",
   "metadata": {
    "ExecuteTime": {
     "end_time": "2020-04-25T10:23:46.100086Z",
     "start_time": "2020-04-25T10:23:46.095041Z"
    },
    "heading_collapsed": true
   },
   "source": [
    "## Formula 1 Team/Constructor Standings"
   ]
  },
  {
   "cell_type": "code",
   "execution_count": null,
   "metadata": {
    "ExecuteTime": {
     "end_time": "2020-04-25T13:33:13.100176Z",
     "start_time": "2020-04-25T13:31:43.335877Z"
    },
    "hidden": true
   },
   "outputs": [
    {
     "name": "stdout",
     "output_type": "stream",
     "text": [
      "(12486, 6)\n"
     ]
    }
   ],
   "source": [
    "constructor_rounds = rounds[8:]\n",
    "\n",
    "constructor_standings = {'season': [],\n",
    "                    'round':[],\n",
    "                    'constructor': [],\n",
    "                    'constructor_points': [],\n",
    "                    'constructor_wins': [],\n",
    "                   'constructor_standings_pos': []}\n",
    "\n",
    "for n in list(range(len(constructor_rounds))):\n",
    "    for i in constructor_rounds[n][1]:\n",
    "    \n",
    "        url = 'https://ergast.com/api/f1/{}/{}/constructorStandings.json'\n",
    "        r = requests.get(url.format(constructor_rounds[n][0], i))\n",
    "        json = r.json()\n",
    "\n",
    "        for item in json['MRData']['StandingsTable']['StandingsLists'][0]['ConstructorStandings']:\n",
    "            try:\n",
    "                constructor_standings['season'].append(int(json['MRData']['StandingsTable']['StandingsLists'][0]['season']))\n",
    "            except:\n",
    "                constructor_standings['season'].append(None)\n",
    "\n",
    "            try:\n",
    "                constructor_standings['round'].append(int(json['MRData']['StandingsTable']['StandingsLists'][0]['round']))\n",
    "            except:\n",
    "                constructor_standings['round'].append(None)\n",
    "                                         \n",
    "            try:\n",
    "                constructor_standings['constructor'].append(item['Constructor']['constructorId'])\n",
    "            except:\n",
    "                constructor_standings['constructor'].append(None)\n",
    "            \n",
    "            try:\n",
    "                constructor_standings['constructor_points'].append(int(item['points']))\n",
    "            except:\n",
    "                constructor_standings['constructor_points'].append(None)\n",
    "            \n",
    "            try:\n",
    "                constructor_standings['constructor_wins'].append(int(item['wins']))\n",
    "            except:\n",
    "                constructor_standings['constructor_wins'].append(None)\n",
    "                \n",
    "            try:\n",
    "                constructor_standings['constructor_standings_pos'].append(int(item['position']))\n",
    "            except:\n",
    "                constructor_standings['constructor_standings_pos'].append(None)\n",
    "            \n",
    "constructor_standings = pd.DataFrame(constructor_standings)\n",
    "print(constructor_standings.shape)\n"
   ]
  },
  {
   "cell_type": "code",
   "execution_count": null,
   "metadata": {
    "ExecuteTime": {
     "end_time": "2020-04-25T13:33:19.312579Z",
     "start_time": "2020-04-25T13:33:19.223191Z"
    },
    "hidden": true
   },
   "outputs": [],
   "source": [
    "constructor_standings = lookup(constructor_standings, 'constructor', 'constructor_points')"
   ]
  },
  {
   "cell_type": "code",
   "execution_count": null,
   "metadata": {
    "ExecuteTime": {
     "end_time": "2020-04-25T13:33:20.373131Z",
     "start_time": "2020-04-25T13:33:20.291395Z"
    },
    "hidden": true
   },
   "outputs": [],
   "source": [
    "constructor_standings = lookup(constructor_standings, 'constructor', 'constructor_wins')"
   ]
  },
  {
   "cell_type": "code",
   "execution_count": null,
   "metadata": {
    "ExecuteTime": {
     "end_time": "2020-04-25T13:33:21.715298Z",
     "start_time": "2020-04-25T13:33:21.619260Z"
    },
    "hidden": true
   },
   "outputs": [],
   "source": [
    "constructor_standings = lookup(constructor_standings, 'constructor', 'constructor_standings_pos')"
   ]
  },
  {
   "cell_type": "code",
   "execution_count": null,
   "metadata": {
    "ExecuteTime": {
     "end_time": "2020-04-25T13:33:23.914229Z",
     "start_time": "2020-04-25T13:33:23.897644Z"
    },
    "hidden": true
   },
   "outputs": [
    {
     "data": {
      "text/html": [
       "<div>\n",
       "<style scoped>\n",
       "    .dataframe tbody tr th:only-of-type {\n",
       "        vertical-align: middle;\n",
       "    }\n",
       "\n",
       "    .dataframe tbody tr th {\n",
       "        vertical-align: top;\n",
       "    }\n",
       "\n",
       "    .dataframe thead th {\n",
       "        text-align: right;\n",
       "    }\n",
       "</style>\n",
       "<table border=\"1\" class=\"dataframe\">\n",
       "  <thead>\n",
       "    <tr style=\"text-align: right;\">\n",
       "      <th></th>\n",
       "      <th>season</th>\n",
       "      <th>round</th>\n",
       "      <th>constructor</th>\n",
       "      <th>constructor_points_after_race</th>\n",
       "      <th>constructor_wins_after_race</th>\n",
       "      <th>constructor_standings_pos_after_race</th>\n",
       "      <th>constructor_points</th>\n",
       "      <th>constructor_wins</th>\n",
       "      <th>constructor_standings_pos</th>\n",
       "    </tr>\n",
       "  </thead>\n",
       "  <tbody>\n",
       "    <tr>\n",
       "      <th>0</th>\n",
       "      <td>1958</td>\n",
       "      <td>1</td>\n",
       "      <td>cooper</td>\n",
       "      <td>8.0</td>\n",
       "      <td>1</td>\n",
       "      <td>1</td>\n",
       "      <td>0.0</td>\n",
       "      <td>0.0</td>\n",
       "      <td>0.0</td>\n",
       "    </tr>\n",
       "    <tr>\n",
       "      <th>1</th>\n",
       "      <td>1958</td>\n",
       "      <td>1</td>\n",
       "      <td>ferrari</td>\n",
       "      <td>6.0</td>\n",
       "      <td>0</td>\n",
       "      <td>2</td>\n",
       "      <td>0.0</td>\n",
       "      <td>0.0</td>\n",
       "      <td>0.0</td>\n",
       "    </tr>\n",
       "    <tr>\n",
       "      <th>2</th>\n",
       "      <td>1958</td>\n",
       "      <td>1</td>\n",
       "      <td>maserati</td>\n",
       "      <td>3.0</td>\n",
       "      <td>0</td>\n",
       "      <td>3</td>\n",
       "      <td>0.0</td>\n",
       "      <td>0.0</td>\n",
       "      <td>0.0</td>\n",
       "    </tr>\n",
       "    <tr>\n",
       "      <th>3</th>\n",
       "      <td>1958</td>\n",
       "      <td>2</td>\n",
       "      <td>cooper</td>\n",
       "      <td>16.0</td>\n",
       "      <td>2</td>\n",
       "      <td>1</td>\n",
       "      <td>8.0</td>\n",
       "      <td>1.0</td>\n",
       "      <td>1.0</td>\n",
       "    </tr>\n",
       "    <tr>\n",
       "      <th>4</th>\n",
       "      <td>1958</td>\n",
       "      <td>2</td>\n",
       "      <td>ferrari</td>\n",
       "      <td>12.0</td>\n",
       "      <td>0</td>\n",
       "      <td>2</td>\n",
       "      <td>6.0</td>\n",
       "      <td>0.0</td>\n",
       "      <td>2.0</td>\n",
       "    </tr>\n",
       "  </tbody>\n",
       "</table>\n",
       "</div>"
      ],
      "text/plain": [
       "   season  round constructor  constructor_points_after_race  \\\n",
       "0    1958      1      cooper                            8.0   \n",
       "1    1958      1     ferrari                            6.0   \n",
       "2    1958      1    maserati                            3.0   \n",
       "3    1958      2      cooper                           16.0   \n",
       "4    1958      2     ferrari                           12.0   \n",
       "\n",
       "   constructor_wins_after_race  constructor_standings_pos_after_race  \\\n",
       "0                            1                                     1   \n",
       "1                            0                                     2   \n",
       "2                            0                                     3   \n",
       "3                            2                                     1   \n",
       "4                            0                                     2   \n",
       "\n",
       "   constructor_points  constructor_wins  constructor_standings_pos  \n",
       "0                 0.0               0.0                        0.0  \n",
       "1                 0.0               0.0                        0.0  \n",
       "2                 0.0               0.0                        0.0  \n",
       "3                 8.0               1.0                        1.0  \n",
       "4                 6.0               0.0                        2.0  "
      ]
     },
     "execution_count": 62,
     "metadata": {},
     "output_type": "execute_result"
    }
   ],
   "source": [
    "constructor_standings.head()"
   ]
  },
  {
   "cell_type": "code",
   "execution_count": null,
   "metadata": {
    "ExecuteTime": {
     "end_time": "2020-04-25T13:33:36.174178Z",
     "start_time": "2020-04-25T13:33:36.155411Z"
    },
    "hidden": true
   },
   "outputs": [
    {
     "data": {
      "text/html": [
       "<div>\n",
       "<style scoped>\n",
       "    .dataframe tbody tr th:only-of-type {\n",
       "        vertical-align: middle;\n",
       "    }\n",
       "\n",
       "    .dataframe tbody tr th {\n",
       "        vertical-align: top;\n",
       "    }\n",
       "\n",
       "    .dataframe thead th {\n",
       "        text-align: right;\n",
       "    }\n",
       "</style>\n",
       "<table border=\"1\" class=\"dataframe\">\n",
       "  <thead>\n",
       "    <tr style=\"text-align: right;\">\n",
       "      <th></th>\n",
       "      <th>season</th>\n",
       "      <th>round</th>\n",
       "      <th>constructor</th>\n",
       "      <th>constructor_points_after_race</th>\n",
       "      <th>constructor_wins_after_race</th>\n",
       "      <th>constructor_standings_pos_after_race</th>\n",
       "      <th>constructor_points</th>\n",
       "      <th>constructor_wins</th>\n",
       "      <th>constructor_standings_pos</th>\n",
       "    </tr>\n",
       "  </thead>\n",
       "  <tbody>\n",
       "    <tr>\n",
       "      <th>12481</th>\n",
       "      <td>2020</td>\n",
       "      <td>17</td>\n",
       "      <td>ferrari</td>\n",
       "      <td>131.0</td>\n",
       "      <td>0</td>\n",
       "      <td>6</td>\n",
       "      <td>131.0</td>\n",
       "      <td>0.0</td>\n",
       "      <td>6.0</td>\n",
       "    </tr>\n",
       "    <tr>\n",
       "      <th>12482</th>\n",
       "      <td>2020</td>\n",
       "      <td>17</td>\n",
       "      <td>alphatauri</td>\n",
       "      <td>107.0</td>\n",
       "      <td>1</td>\n",
       "      <td>7</td>\n",
       "      <td>103.0</td>\n",
       "      <td>1.0</td>\n",
       "      <td>7.0</td>\n",
       "    </tr>\n",
       "    <tr>\n",
       "      <th>12483</th>\n",
       "      <td>2020</td>\n",
       "      <td>17</td>\n",
       "      <td>alfa</td>\n",
       "      <td>8.0</td>\n",
       "      <td>0</td>\n",
       "      <td>8</td>\n",
       "      <td>8.0</td>\n",
       "      <td>0.0</td>\n",
       "      <td>8.0</td>\n",
       "    </tr>\n",
       "    <tr>\n",
       "      <th>12484</th>\n",
       "      <td>2020</td>\n",
       "      <td>17</td>\n",
       "      <td>haas</td>\n",
       "      <td>3.0</td>\n",
       "      <td>0</td>\n",
       "      <td>9</td>\n",
       "      <td>3.0</td>\n",
       "      <td>0.0</td>\n",
       "      <td>9.0</td>\n",
       "    </tr>\n",
       "    <tr>\n",
       "      <th>12485</th>\n",
       "      <td>2020</td>\n",
       "      <td>17</td>\n",
       "      <td>williams</td>\n",
       "      <td>0.0</td>\n",
       "      <td>0</td>\n",
       "      <td>10</td>\n",
       "      <td>0.0</td>\n",
       "      <td>0.0</td>\n",
       "      <td>10.0</td>\n",
       "    </tr>\n",
       "  </tbody>\n",
       "</table>\n",
       "</div>"
      ],
      "text/plain": [
       "       season  round constructor  constructor_points_after_race  \\\n",
       "12481    2020     17     ferrari                          131.0   \n",
       "12482    2020     17  alphatauri                          107.0   \n",
       "12483    2020     17        alfa                            8.0   \n",
       "12484    2020     17        haas                            3.0   \n",
       "12485    2020     17    williams                            0.0   \n",
       "\n",
       "       constructor_wins_after_race  constructor_standings_pos_after_race  \\\n",
       "12481                            0                                     6   \n",
       "12482                            1                                     7   \n",
       "12483                            0                                     8   \n",
       "12484                            0                                     9   \n",
       "12485                            0                                    10   \n",
       "\n",
       "       constructor_points  constructor_wins  constructor_standings_pos  \n",
       "12481               131.0               0.0                        6.0  \n",
       "12482               103.0               1.0                        7.0  \n",
       "12483                 8.0               0.0                        8.0  \n",
       "12484                 3.0               0.0                        9.0  \n",
       "12485                 0.0               0.0                       10.0  "
      ]
     },
     "execution_count": 63,
     "metadata": {},
     "output_type": "execute_result"
    }
   ],
   "source": [
    "constructor_standings.tail()"
   ]
  },
  {
   "cell_type": "code",
   "execution_count": null,
   "metadata": {
    "ExecuteTime": {
     "end_time": "2020-04-25T13:33:39.195368Z",
     "start_time": "2020-04-25T13:33:39.086607Z"
    },
    "hidden": true
   },
   "outputs": [],
   "source": [
    "constructor_standings.to_csv('./data/constructor_standings.csv', index = False)"
   ]
  },
  {
   "cell_type": "code",
   "execution_count": null,
   "metadata": {},
   "outputs": [],
   "source": [
    "end = time.time()"
   ]
  },
  {
   "cell_type": "code",
   "execution_count": null,
   "metadata": {},
   "outputs": [
    {
     "data": {
      "text/plain": [
       "'0:21:44.188030'"
      ]
     },
     "execution_count": 66,
     "metadata": {},
     "output_type": "execute_result"
    }
   ],
   "source": [
    "import datetime\n",
    "str(datetime.timedelta(seconds=(end - start)))"
   ]
  },
  {
   "cell_type": "code",
   "execution_count": null,
   "metadata": {},
   "outputs": [
    {
     "name": "stdout",
     "output_type": "stream",
     "text": [
      "1304.1880297660828 seconds\n"
     ]
    }
   ],
   "source": [
    "print(str(end - start)+\" seconds\")"
   ]
  }
 ],
 "metadata": {
  "kernelspec": {
   "display_name": "Python 3",
   "language": "python",
   "name": "python3"
  },
  "language_info": {
   "codemirror_mode": {
    "name": "ipython",
    "version": 3
   },
   "file_extension": ".py",
   "mimetype": "text/x-python",
   "name": "python",
   "nbconvert_exporter": "python",
   "pygments_lexer": "ipython3",
   "version": "3.10.8"
  },
  "varInspector": {
   "cols": {
    "lenName": 16,
    "lenType": 16,
    "lenVar": 40
   },
   "kernels_config": {
    "python": {
     "delete_cmd_postfix": "",
     "delete_cmd_prefix": "del ",
     "library": "var_list.py",
     "varRefreshCmd": "print(var_dic_list())"
    },
    "r": {
     "delete_cmd_postfix": ") ",
     "delete_cmd_prefix": "rm(",
     "library": "var_list.r",
     "varRefreshCmd": "cat(var_dic_list()) "
    }
   },
   "types_to_exclude": [
    "module",
    "function",
    "builtin_function_or_method",
    "instance",
    "_Feature"
   ],
   "window_display": false
  }
 },
 "nbformat": 4,
 "nbformat_minor": 4
}

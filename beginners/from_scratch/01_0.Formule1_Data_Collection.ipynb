{
 "cells": [
  {
   "cell_type": "markdown",
   "metadata": {},
   "source": [
    "# Formule 1 Data Collection from ERGAST Web"
   ]
  },
  {
   "cell_type": "code",
   "execution_count": null,
   "metadata": {},
   "outputs": [],
   "source": [
    "import warnings\n",
    "warnings.filterwarnings(\"ignore\")"
   ]
  },
  {
   "cell_type": "code",
   "execution_count": null,
   "metadata": {},
   "outputs": [],
   "source": [
    "import time\n",
    "start = time.time()"
   ]
  },
  {
   "cell_type": "code",
   "execution_count": null,
   "metadata": {
    "ExecuteTime": {
     "end_time": "2020-04-25T12:49:48.888320Z",
     "start_time": "2020-04-25T12:49:48.310499Z"
    }
   },
   "outputs": [],
   "source": [
    "import pandas as pd\n",
    "import requests\n",
    "import numpy as np\n",
    "import os"
   ]
  },
  {
   "cell_type": "code",
   "execution_count": null,
   "metadata": {
    "ExecuteTime": {
     "end_time": "2020-04-25T13:27:54.994708Z",
     "start_time": "2020-04-25T13:27:54.978105Z"
    }
   },
   "outputs": [],
   "source": [
    "# I will use this function later to calculate points and wins prior to the race\n",
    "\n",
    "def lookup (df, team, points):\n",
    "    df['lookup1'] = df.season.astype(str) + df[team] + df['round'].astype(str)\n",
    "    df['lookup2'] = df.season.astype(str) + df[team] + (df['round']-1).astype(str)\n",
    "    new_df = df.merge(df[['lookup1', points]], how = 'left', left_on='lookup2',right_on='lookup1')\n",
    "    new_df.drop(['lookup1_x', 'lookup2', 'lookup1_y'], axis = 1, inplace = True)\n",
    "    new_df.rename(columns = {points+'_x': points+'_after_race', points+'_y': points}, inplace = True)\n",
    "    new_df[points].fillna(0, inplace = True)\n",
    "    return new_df\n",
    "   "
   ]
  },
  {
   "attachments": {},
   "cell_type": "markdown",
   "metadata": {
    "heading_collapsed": true
   },
   "source": [
    "## Formula 1 Races until 2022"
   ]
  },
  {
   "cell_type": "code",
   "execution_count": null,
   "metadata": {
    "ExecuteTime": {
     "end_time": "2020-04-25T12:50:17.193075Z",
     "start_time": "2020-04-25T12:50:03.155636Z"
    },
    "hidden": true
   },
   "outputs": [],
   "source": [
    "races = {'season': [],\n",
    "        'round': [],\n",
    "        'circuit_id': [],\n",
    "        'lat': [],\n",
    "        'long': [],\n",
    "        'country': [],\n",
    "        'date': [],\n",
    "        'url': []}\n",
    "\n",
    "for year in list(range(1950,2023)):\n",
    "    \n",
    "    url = 'https://ergast.com/api/f1/{}.json'\n",
    "    r = requests.get(url.format(year))\n",
    "    json = r.json()\n",
    "\n",
    "    for item in json['MRData']['RaceTable']['Races']:\n",
    "        try:\n",
    "            races['season'].append(int(item['season']))\n",
    "        except:\n",
    "            races['season'].append(None)\n",
    "\n",
    "        try:\n",
    "            races['round'].append(int(item['round']))\n",
    "        except:\n",
    "            races['round'].append(None)\n",
    "\n",
    "        try:\n",
    "            races['circuit_id'].append(item['Circuit']['circuitId'])\n",
    "        except:\n",
    "            races['circuit_id'].append(None)\n",
    "\n",
    "        try:\n",
    "            races['lat'].append(float(item['Circuit']['Location']['lat']))\n",
    "        except:\n",
    "            races['lat'].append(None)\n",
    "\n",
    "        try:\n",
    "            races['long'].append(float(item['Circuit']['Location']['long']))\n",
    "        except:\n",
    "            races['long'].append(None)\n",
    "\n",
    "        try:\n",
    "            races['country'].append(item['Circuit']['Location']['country'])\n",
    "        except:\n",
    "            races['country'].append(None)\n",
    "\n",
    "        try:\n",
    "            races['date'].append(item['date'])\n",
    "        except:\n",
    "            races['date'].append(None)\n",
    "\n",
    "        try:\n",
    "            races['url'].append(item['url'])\n",
    "        except:\n",
    "            races['url'].append(None)\n",
    "        \n",
    "races = pd.DataFrame(races)\n",
    "print(races.shape)"
   ]
  },
  {
   "cell_type": "code",
   "execution_count": null,
   "metadata": {
    "ExecuteTime": {
     "end_time": "2020-04-25T13:01:14.737380Z",
     "start_time": "2020-04-25T13:01:14.709906Z"
    },
    "hidden": true
   },
   "outputs": [],
   "source": [
    "races.head()"
   ]
  },
  {
   "cell_type": "code",
   "execution_count": null,
   "metadata": {
    "ExecuteTime": {
     "end_time": "2020-04-25T13:01:36.003880Z",
     "start_time": "2020-04-25T13:01:35.985653Z"
    },
    "hidden": true
   },
   "outputs": [],
   "source": [
    "races.tail()"
   ]
  },
  {
   "cell_type": "code",
   "execution_count": null,
   "metadata": {},
   "outputs": [],
   "source": [
    "if not os.path.exists('./data'):\n",
    "    os.mkdir('./data')"
   ]
  },
  {
   "cell_type": "code",
   "execution_count": null,
   "metadata": {
    "ExecuteTime": {
     "end_time": "2020-04-25T13:01:53.430287Z",
     "start_time": "2020-04-25T13:01:53.411759Z"
    },
    "hidden": true
   },
   "outputs": [],
   "source": [
    "races.to_csv('./data/races.csv', index = False)"
   ]
  },
  {
   "cell_type": "markdown",
   "metadata": {
    "heading_collapsed": true
   },
   "source": [
    "## Formula 1 Rounds"
   ]
  },
  {
   "cell_type": "code",
   "execution_count": null,
   "metadata": {
    "ExecuteTime": {
     "end_time": "2020-04-25T13:02:15.368846Z",
     "start_time": "2020-04-25T13:02:15.355941Z"
    },
    "hidden": true
   },
   "outputs": [],
   "source": [
    "race = pd.read_csv('./data/races.csv')"
   ]
  },
  {
   "cell_type": "code",
   "execution_count": null,
   "metadata": {
    "ExecuteTime": {
     "end_time": "2020-04-25T13:02:58.902514Z",
     "start_time": "2020-04-25T13:02:58.829981Z"
    },
    "hidden": true
   },
   "outputs": [],
   "source": [
    "rounds = []\n",
    "for year in np.array(race.season.unique()):\n",
    "    rounds.append([year, list(race[race.season == year]['round'])])"
   ]
  },
  {
   "cell_type": "code",
   "execution_count": null,
   "metadata": {
    "ExecuteTime": {
     "end_time": "2020-04-25T13:03:41.361231Z",
     "start_time": "2020-04-25T13:03:41.353880Z"
    },
    "hidden": true
   },
   "outputs": [],
   "source": [
    "rounds[:5]"
   ]
  },
  {
   "cell_type": "markdown",
   "metadata": {
    "heading_collapsed": true
   },
   "source": [
    "## Formula 1 Results"
   ]
  },
  {
   "cell_type": "code",
   "execution_count": null,
   "metadata": {
    "ExecuteTime": {
     "end_time": "2020-04-25T13:11:14.823092Z",
     "start_time": "2020-04-25T13:04:22.678839Z"
    },
    "hidden": true
   },
   "outputs": [],
   "source": [
    "results = {'season': [],\n",
    "          'round':[],\n",
    "           'circuit_id':[],\n",
    "          'driver': [],\n",
    "           'date_of_birth': [],\n",
    "           'nationality': [],\n",
    "          'constructor': [],\n",
    "          'grid': [],\n",
    "          'time': [],\n",
    "          'status': [],\n",
    "          'points': [],\n",
    "          'podium': [],\n",
    "          'url': []}\n",
    "\n",
    "for n in list(range(len(rounds))):\n",
    "    for i in rounds[n][1]:\n",
    "    \n",
    "        url = 'http://ergast.com/api/f1/{}/{}/results.json'\n",
    "        r = requests.get(url.format(rounds[n][0], i))\n",
    "        json = r.json()\n",
    "\n",
    "        try:\n",
    "\n",
    "            for item in json['MRData']['RaceTable']['Races'][0]['Results']:\n",
    "                try:\n",
    "                    results['season'].append(int(json['MRData']['RaceTable']['Races'][0]['season']))\n",
    "                except:\n",
    "                    results['season'].append(None)\n",
    "\n",
    "                try:\n",
    "                    results['round'].append(int(json['MRData']['RaceTable']['Races'][0]['round']))\n",
    "                except:\n",
    "                    results['round'].append(None)\n",
    "\n",
    "                try:\n",
    "                    results['circuit_id'].append(json['MRData']['RaceTable']['Races'][0]['Circuit']['circuitId'])\n",
    "                except:\n",
    "                    results['circuit_id'].append(None)\n",
    "\n",
    "                try:\n",
    "                    results['driver'].append(item['Driver']['driverId'])\n",
    "                except:\n",
    "                    results['driver'].append(None)\n",
    "\n",
    "                try:\n",
    "                    results['date_of_birth'].append(item['Driver']['dateOfBirth'])\n",
    "                except:\n",
    "                    results['date_of_birth'].append(None)\n",
    "\n",
    "                try:\n",
    "                    results['nationality'].append(item['Driver']['nationality'])\n",
    "                except:\n",
    "                    results['nationality'].append(None)\n",
    "\n",
    "                try:\n",
    "                    results['constructor'].append(item['Constructor']['constructorId'])\n",
    "                except:\n",
    "                    results['constructor'].append(None)\n",
    "\n",
    "                try:\n",
    "                    results['grid'].append(int(item['grid']))\n",
    "                except:\n",
    "                    results['grid'].append(None)\n",
    "\n",
    "                try:\n",
    "                    results['time'].append(int(item['Time']['millis']))\n",
    "                except:\n",
    "                    results['time'].append(None)\n",
    "\n",
    "                try:\n",
    "                    results['status'].append(item['status'])\n",
    "                except:\n",
    "                    results['status'].append(None)\n",
    "\n",
    "                try:\n",
    "                    results['points'].append(int(item['points']))\n",
    "                except:\n",
    "                    results['points'].append(None)\n",
    "\n",
    "                try:\n",
    "                    results['podium'].append(int(item['position']))\n",
    "                except:\n",
    "                    results['podium'].append(None)\n",
    "\n",
    "                try:\n",
    "                    results['url'].append(json['MRData']['RaceTable']['Races'][0]['url'])\n",
    "                except:\n",
    "                    results['url'].append(None)\n",
    "\n",
    "        except:\n",
    "            print(rounds[n][0], i)\n",
    "            print (\"Error : %s : %s \" % (rounds[n][0], i))\n",
    "\n",
    "results = pd.DataFrame(results)\n",
    "print(results.shape)"
   ]
  },
  {
   "cell_type": "code",
   "execution_count": null,
   "metadata": {
    "ExecuteTime": {
     "end_time": "2020-04-25T13:12:16.232036Z",
     "start_time": "2020-04-25T13:12:16.211050Z"
    },
    "hidden": true
   },
   "outputs": [],
   "source": [
    "results.head()"
   ]
  },
  {
   "cell_type": "code",
   "execution_count": null,
   "metadata": {
    "ExecuteTime": {
     "end_time": "2020-04-25T13:12:20.950021Z",
     "start_time": "2020-04-25T13:12:20.922617Z"
    },
    "hidden": true
   },
   "outputs": [],
   "source": [
    "results.tail()"
   ]
  },
  {
   "cell_type": "code",
   "execution_count": null,
   "metadata": {
    "ExecuteTime": {
     "end_time": "2020-04-25T13:12:25.269394Z",
     "start_time": "2020-04-25T13:12:25.097317Z"
    },
    "hidden": true
   },
   "outputs": [],
   "source": [
    "results.to_csv('./data/results.csv', index = False)"
   ]
  },
  {
   "cell_type": "markdown",
   "metadata": {
    "ExecuteTime": {
     "end_time": "2020-04-24T14:50:58.332851Z",
     "start_time": "2020-04-24T14:50:58.329415Z"
    },
    "heading_collapsed": true
   },
   "source": [
    "## Formula 1 Drivers Standings"
   ]
  },
  {
   "cell_type": "code",
   "execution_count": null,
   "metadata": {
    "ExecuteTime": {
     "end_time": "2020-04-25T13:23:54.573020Z",
     "start_time": "2020-04-25T13:12:52.400005Z"
    },
    "hidden": true
   },
   "outputs": [],
   "source": [
    "driver_standings = {'season': [],\n",
    "                    'round':[],\n",
    "                    'driver': [],\n",
    "                    'driver_points': [],\n",
    "                    'driver_wins': [],\n",
    "                   'driver_standings_pos': []}\n",
    "\n",
    "for n in list(range(len(rounds))):\n",
    "    for i in rounds[n][1]:\n",
    "    \n",
    "        url = 'https://ergast.com/api/f1/{}/{}/driverStandings.json'\n",
    "        r = requests.get(url.format(rounds[n][0], i))\n",
    "        json = r.json()\n",
    "\n",
    "        for item in json['MRData']['StandingsTable']['StandingsLists'][0]['DriverStandings']:\n",
    "            try:\n",
    "                driver_standings['season'].append(int(json['MRData']['StandingsTable']['StandingsLists'][0]['season']))\n",
    "            except:\n",
    "                driver_standings['season'].append(None)\n",
    "\n",
    "            try:\n",
    "                driver_standings['round'].append(int(json['MRData']['StandingsTable']['StandingsLists'][0]['round']))\n",
    "            except:\n",
    "                driver_standings['round'].append(None)\n",
    "                                         \n",
    "            try:\n",
    "                driver_standings['driver'].append(item['Driver']['driverId'])\n",
    "            except:\n",
    "                driver_standings['driver'].append(None)\n",
    "            \n",
    "            try:\n",
    "                driver_standings['driver_points'].append(int(item['points']))\n",
    "            except:\n",
    "                driver_standings['driver_points'].append(None)\n",
    "            \n",
    "            try:\n",
    "                driver_standings['driver_wins'].append(int(item['wins']))\n",
    "            except:\n",
    "                driver_standings['driver_wins'].append(None)\n",
    "                \n",
    "            try:\n",
    "                driver_standings['driver_standings_pos'].append(int(item['position']))\n",
    "            except:\n",
    "                driver_standings['driver_standings_pos'].append(None)\n",
    "            \n",
    "driver_standings = pd.DataFrame(driver_standings)\n",
    "print(driver_standings.shape)\n"
   ]
  },
  {
   "cell_type": "code",
   "execution_count": null,
   "metadata": {
    "ExecuteTime": {
     "end_time": "2020-04-25T13:28:00.343265Z",
     "start_time": "2020-04-25T13:28:00.187104Z"
    },
    "hidden": true
   },
   "outputs": [],
   "source": [
    "driver_standings = lookup(driver_standings, 'driver', 'driver_points')"
   ]
  },
  {
   "cell_type": "code",
   "execution_count": null,
   "metadata": {
    "ExecuteTime": {
     "end_time": "2020-04-25T13:28:03.167215Z",
     "start_time": "2020-04-25T13:28:03.007873Z"
    },
    "hidden": true
   },
   "outputs": [],
   "source": [
    "driver_standings = lookup(driver_standings, 'driver', 'driver_wins')"
   ]
  },
  {
   "cell_type": "code",
   "execution_count": null,
   "metadata": {
    "ExecuteTime": {
     "end_time": "2020-04-25T13:28:04.322862Z",
     "start_time": "2020-04-25T13:28:04.174248Z"
    },
    "hidden": true
   },
   "outputs": [],
   "source": [
    "driver_standings = lookup(driver_standings, 'driver', 'driver_standings_pos')"
   ]
  },
  {
   "cell_type": "code",
   "execution_count": null,
   "metadata": {
    "ExecuteTime": {
     "end_time": "2020-04-25T13:28:05.342483Z",
     "start_time": "2020-04-25T13:28:05.325228Z"
    },
    "hidden": true
   },
   "outputs": [],
   "source": [
    "driver_standings.head()"
   ]
  },
  {
   "cell_type": "code",
   "execution_count": null,
   "metadata": {
    "ExecuteTime": {
     "end_time": "2020-04-25T13:30:38.070770Z",
     "start_time": "2020-04-25T13:30:38.044672Z"
    },
    "hidden": true
   },
   "outputs": [],
   "source": [
    "driver_standings.tail()"
   ]
  },
  {
   "cell_type": "code",
   "execution_count": null,
   "metadata": {
    "ExecuteTime": {
     "end_time": "2020-04-25T13:30:55.871283Z",
     "start_time": "2020-04-25T13:30:55.712834Z"
    },
    "hidden": true
   },
   "outputs": [],
   "source": [
    "driver_standings.to_csv('./data/driver_standings.csv', index = False)"
   ]
  },
  {
   "cell_type": "markdown",
   "metadata": {
    "ExecuteTime": {
     "end_time": "2020-04-25T10:23:46.100086Z",
     "start_time": "2020-04-25T10:23:46.095041Z"
    },
    "heading_collapsed": true
   },
   "source": [
    "## Formula 1 Team/Constructor Standings"
   ]
  },
  {
   "cell_type": "code",
   "execution_count": null,
   "metadata": {
    "ExecuteTime": {
     "end_time": "2020-04-25T13:33:13.100176Z",
     "start_time": "2020-04-25T13:31:43.335877Z"
    },
    "hidden": true
   },
   "outputs": [],
   "source": [
    "constructor_rounds = rounds[8:]\n",
    "\n",
    "constructor_standings = {'season': [],\n",
    "                    'round':[],\n",
    "                    'constructor': [],\n",
    "                    'constructor_points': [],\n",
    "                    'constructor_wins': [],\n",
    "                   'constructor_standings_pos': []}\n",
    "\n",
    "for n in list(range(len(constructor_rounds))):\n",
    "    for i in constructor_rounds[n][1]:\n",
    "    \n",
    "        url = 'https://ergast.com/api/f1/{}/{}/constructorStandings.json'\n",
    "        r = requests.get(url.format(constructor_rounds[n][0], i))\n",
    "        json = r.json()\n",
    "\n",
    "        for item in json['MRData']['StandingsTable']['StandingsLists'][0]['ConstructorStandings']:\n",
    "            try:\n",
    "                constructor_standings['season'].append(int(json['MRData']['StandingsTable']['StandingsLists'][0]['season']))\n",
    "            except:\n",
    "                constructor_standings['season'].append(None)\n",
    "\n",
    "            try:\n",
    "                constructor_standings['round'].append(int(json['MRData']['StandingsTable']['StandingsLists'][0]['round']))\n",
    "            except:\n",
    "                constructor_standings['round'].append(None)\n",
    "                                         \n",
    "            try:\n",
    "                constructor_standings['constructor'].append(item['Constructor']['constructorId'])\n",
    "            except:\n",
    "                constructor_standings['constructor'].append(None)\n",
    "            \n",
    "            try:\n",
    "                constructor_standings['constructor_points'].append(int(item['points']))\n",
    "            except:\n",
    "                constructor_standings['constructor_points'].append(None)\n",
    "            \n",
    "            try:\n",
    "                constructor_standings['constructor_wins'].append(int(item['wins']))\n",
    "            except:\n",
    "                constructor_standings['constructor_wins'].append(None)\n",
    "                \n",
    "            try:\n",
    "                constructor_standings['constructor_standings_pos'].append(int(item['position']))\n",
    "            except:\n",
    "                constructor_standings['constructor_standings_pos'].append(None)\n",
    "            \n",
    "constructor_standings = pd.DataFrame(constructor_standings)\n",
    "print(constructor_standings.shape)\n"
   ]
  },
  {
   "cell_type": "code",
   "execution_count": null,
   "metadata": {
    "ExecuteTime": {
     "end_time": "2020-04-25T13:33:19.312579Z",
     "start_time": "2020-04-25T13:33:19.223191Z"
    },
    "hidden": true
   },
   "outputs": [],
   "source": [
    "constructor_standings = lookup(constructor_standings, 'constructor', 'constructor_points')"
   ]
  },
  {
   "cell_type": "code",
   "execution_count": null,
   "metadata": {
    "ExecuteTime": {
     "end_time": "2020-04-25T13:33:20.373131Z",
     "start_time": "2020-04-25T13:33:20.291395Z"
    },
    "hidden": true
   },
   "outputs": [],
   "source": [
    "constructor_standings = lookup(constructor_standings, 'constructor', 'constructor_wins')"
   ]
  },
  {
   "cell_type": "code",
   "execution_count": null,
   "metadata": {
    "ExecuteTime": {
     "end_time": "2020-04-25T13:33:21.715298Z",
     "start_time": "2020-04-25T13:33:21.619260Z"
    },
    "hidden": true
   },
   "outputs": [],
   "source": [
    "constructor_standings = lookup(constructor_standings, 'constructor', 'constructor_standings_pos')"
   ]
  },
  {
   "cell_type": "code",
   "execution_count": null,
   "metadata": {
    "ExecuteTime": {
     "end_time": "2020-04-25T13:33:23.914229Z",
     "start_time": "2020-04-25T13:33:23.897644Z"
    },
    "hidden": true
   },
   "outputs": [],
   "source": [
    "constructor_standings.head()"
   ]
  },
  {
   "cell_type": "code",
   "execution_count": null,
   "metadata": {
    "ExecuteTime": {
     "end_time": "2020-04-25T13:33:36.174178Z",
     "start_time": "2020-04-25T13:33:36.155411Z"
    },
    "hidden": true
   },
   "outputs": [],
   "source": [
    "constructor_standings.tail()"
   ]
  },
  {
   "cell_type": "code",
   "execution_count": null,
   "metadata": {
    "ExecuteTime": {
     "end_time": "2020-04-25T13:33:39.195368Z",
     "start_time": "2020-04-25T13:33:39.086607Z"
    },
    "hidden": true
   },
   "outputs": [],
   "source": [
    "constructor_standings.to_csv('./data/constructor_standings.csv', index = False)"
   ]
  },
  {
   "cell_type": "code",
   "execution_count": null,
   "metadata": {},
   "outputs": [],
   "source": [
    "end = time.time()"
   ]
  },
  {
   "cell_type": "code",
   "execution_count": null,
   "metadata": {},
   "outputs": [],
   "source": [
    "import datetime\n",
    "str(datetime.timedelta(seconds=(end - start)))"
   ]
  },
  {
   "cell_type": "code",
   "execution_count": null,
   "metadata": {},
   "outputs": [],
   "source": [
    "print(str(end - start)+\" seconds\")"
   ]
  }
 ],
 "metadata": {
  "kernelspec": {
   "display_name": "Python 3",
   "language": "python",
   "name": "python3"
  },
  "language_info": {
   "codemirror_mode": {
    "name": "ipython",
    "version": 3
   },
   "file_extension": ".py",
   "mimetype": "text/x-python",
   "name": "python",
   "nbconvert_exporter": "python",
   "pygments_lexer": "ipython3",
   "version": "3.10.8"
  },
  "varInspector": {
   "cols": {
    "lenName": 16,
    "lenType": 16,
    "lenVar": 40
   },
   "kernels_config": {
    "python": {
     "delete_cmd_postfix": "",
     "delete_cmd_prefix": "del ",
     "library": "var_list.py",
     "varRefreshCmd": "print(var_dic_list())"
    },
    "r": {
     "delete_cmd_postfix": ") ",
     "delete_cmd_prefix": "rm(",
     "library": "var_list.r",
     "varRefreshCmd": "cat(var_dic_list()) "
    }
   },
   "types_to_exclude": [
    "module",
    "function",
    "builtin_function_or_method",
    "instance",
    "_Feature"
   ],
   "window_display": false
  }
 },
 "nbformat": 4,
 "nbformat_minor": 4
}
